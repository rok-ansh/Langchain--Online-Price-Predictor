{
 "cells": [
  {
   "cell_type": "code",
   "execution_count": 1,
   "id": "a8404a7a",
   "metadata": {},
   "outputs": [],
   "source": [
    "from langchain_groq import ChatGroq\n",
    "from pydantic import BaseModel, Field\n",
    "from langchain_core.output_parsers import PydanticOutputParser\n",
    "from langchain_core.prompts import ChatPromptTemplate, PromptTemplate\n",
    "from dotenv import load_dotenv\n",
    "import os\n"
   ]
  },
  {
   "cell_type": "code",
   "execution_count": 2,
   "id": "1c7f3fcf",
   "metadata": {},
   "outputs": [],
   "source": [
    "os.environ[\"GROQ_API_KEY\"]=\"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\"\n"
   ]
  },
  {
   "cell_type": "code",
   "execution_count": 18,
   "id": "5777d109",
   "metadata": {},
   "outputs": [],
   "source": [
    "class Reservation(BaseModel):\n",
    "    start: str=Field(description=\"Question to start a joke\")\n",
    "    punchline:str=Field(description=\"answer to resolve a joke\")"
   ]
  },
  {
   "cell_type": "code",
   "execution_count": 24,
   "id": "5f7d8ec3",
   "metadata": {},
   "outputs": [],
   "source": [
    "model=ChatGroq(model=\"gemma2-9b-it\")\n",
    "\n",
    "parser=PydanticOutputParser(pydantic_object=Reservation)"
   ]
  },
  {
   "cell_type": "code",
   "execution_count": null,
   "id": "181a6f54",
   "metadata": {},
   "outputs": [],
   "source": []
  },
  {
   "cell_type": "code",
   "execution_count": 25,
   "id": "240c358b",
   "metadata": {},
   "outputs": [],
   "source": [
    "prompt = ChatPromptTemplate.from_messages(\n",
    "    [\n",
    "        (\"system\",\"Answer the user query.\\n {format_instructions}\\n {query}\"),\n",
    "        (\"user\", \"{query}\")\n",
    "    ]\n",
    "    \n",
    ")\n",
    "\n",
    "prompt = prompt.partial(format_instructions=parser.get_format_instructions())"
   ]
  },
  {
   "cell_type": "code",
   "execution_count": 26,
   "id": "9c17ab78",
   "metadata": {},
   "outputs": [],
   "source": [
    "chain=prompt|model|parser\n"
   ]
  },
  {
   "cell_type": "code",
   "execution_count": 27,
   "id": "5e6e39a6",
   "metadata": {},
   "outputs": [],
   "source": [
    "response=chain.invoke({\"query\":\"Tell me a joke about wife\"})\n"
   ]
  },
  {
   "cell_type": "code",
   "execution_count": 28,
   "id": "7d861433",
   "metadata": {},
   "outputs": [
    {
     "name": "stdout",
     "output_type": "stream",
     "text": [
      "start='Why did the husband bring a ladder to bed?' punchline='Because he heard his wife was a high maintenance woman!'\n"
     ]
    }
   ],
   "source": [
    "\n",
    "print(response)"
   ]
  },
  {
   "cell_type": "code",
   "execution_count": 22,
   "id": "10a8c7d1",
   "metadata": {},
   "outputs": [
    {
     "name": "stdout",
     "output_type": "stream",
     "text": [
      "start='Why did the cricket cross the road?' punchline='To get to the other *wicket*!'\n"
     ]
    }
   ],
   "source": [
    "from langchain.output_parsers import PydanticOutputParser\n",
    "from pydantic import BaseModel, Field\n",
    "from langchain_groq import ChatGroq\n",
    "from langchain_core.prompts import ChatPromptTemplate\n",
    "\n",
    "\n",
    "class Joke(BaseModel):\n",
    "    start: str=Field(description=\"Question to start a joke\")\n",
    "    punchline:str=Field(description=\"answer to resolve a joke\")\n",
    "\n",
    "pydantic_output_parser = PydanticOutputParser(pydantic_object=Joke)\n",
    "\n",
    "llm = ChatGroq(model=\"gemma2-9b-it\")\n",
    "\n",
    "\n",
    "prompt = ChatPromptTemplate.from_messages(\n",
    "    [\n",
    "        (\"system\",\"Answer the user query.\\n {format_instructions}\\n {query}\"),\n",
    "        (\"user\", \"{query}\")\n",
    "    ]\n",
    "    \n",
    ")\n",
    "\n",
    "prompt = prompt.partial(format_instructions=pydantic_output_parser.get_format_instructions())\n",
    "\n",
    "chain = prompt|llm|pydantic_output_parser\n",
    "\n",
    "response = chain.invoke({\"query\": \"tell me  joke about Cricket\"})\n",
    "print(response)\n",
    "\n",
    "\n",
    "\n",
    "\n",
    "\n",
    "\n"
   ]
  },
  {
   "cell_type": "code",
   "execution_count": null,
   "id": "d598003d",
   "metadata": {},
   "outputs": [],
   "source": []
  }
 ],
 "metadata": {
  "kernelspec": {
   "display_name": ".venv",
   "language": "python",
   "name": "python3"
  },
  "language_info": {
   "codemirror_mode": {
    "name": "ipython",
    "version": 3
   },
   "file_extension": ".py",
   "mimetype": "text/x-python",
   "name": "python",
   "nbconvert_exporter": "python",
   "pygments_lexer": "ipython3",
   "version": "3.12.2"
  }
 },
 "nbformat": 4,
 "nbformat_minor": 5
}
